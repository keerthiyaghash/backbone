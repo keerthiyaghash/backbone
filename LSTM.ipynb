{
  "cells": [
    {
      "cell_type": "code",
      "execution_count": 1,
      "metadata": {
        "id": "pdT-EdQN80Zj"
      },
      "outputs": [],
      "source": [
        "import numpy as np\n",
        "import pandas as pd\n",
        "from sklearn.preprocessing import MinMaxScaler\n",
        "from sklearn.model_selection import train_test_split\n",
        "from tensorflow.keras.models import Sequential\n",
        "from tensorflow.keras.layers import LSTM, Dense\n",
        "from sklearn.metrics import mean_squared_error,r2_score\n",
        "import matplotlib.pyplot as plt\n",
        "from sklearn.metrics import mean_absolute_error"
      ]
    },
    {
      "cell_type": "code",
      "execution_count": 2,
      "metadata": {
        "id": "mGcyBMTCAZ8i"
      },
      "outputs": [],
      "source": [
        "df = pd.read_csv('Chemical_Data-1.csv')"
      ]
    },
    {
      "cell_type": "code",
      "execution_count": 3,
      "metadata": {
        "id": "tZl2KxuAAgjx"
      },
      "outputs": [],
      "source": [
        "features = ['Rate/kg', 'Rarity', 'Date Purchased','Amount Purchased']\n",
        "target = 'Amount Purchased'"
      ]
    },
    {
      "cell_type": "code",
      "source": [
        "df['Date Purchased'] = pd.to_datetime(df['Date Purchased'], format='%d-%m-%Y')"
      ],
      "metadata": {
        "id": "im6nEtwYWImO"
      },
      "execution_count": 4,
      "outputs": []
    },
    {
      "cell_type": "code",
      "execution_count": 5,
      "metadata": {
        "id": "Twuiqn3SAjCp"
      },
      "outputs": [],
      "source": [
        "df['Days Since Purchase'] = (df['Date Purchased'] - df['Date Purchased'].min()).dt.days"
      ]
    },
    {
      "cell_type": "code",
      "execution_count": 6,
      "metadata": {
        "id": "E8JpxogqAkvE"
      },
      "outputs": [],
      "source": [
        "X = df[features].values\n",
        "y = df[target].values.reshape(-1, 1)"
      ]
    },
    {
      "cell_type": "code",
      "execution_count": 7,
      "metadata": {
        "id": "FXIMgbkjAmbk"
      },
      "outputs": [],
      "source": [
        "X[:, 2] = df['Days Since Purchase'].astype(float)"
      ]
    },
    {
      "cell_type": "code",
      "execution_count": 8,
      "metadata": {
        "id": "jKk0W2F_A5vC"
      },
      "outputs": [],
      "source": [
        "scaler_X = MinMaxScaler()\n",
        "scaler_y = MinMaxScaler()"
      ]
    },
    {
      "cell_type": "code",
      "execution_count": 9,
      "metadata": {
        "id": "uJsuZl5NBP3I"
      },
      "outputs": [],
      "source": [
        "X_scaled = scaler_X.fit_transform(X)\n",
        "y_scaled = scaler_y.fit_transform(y)"
      ]
    },
    {
      "cell_type": "code",
      "execution_count": 10,
      "metadata": {
        "id": "nsoP3S5zBURA"
      },
      "outputs": [],
      "source": [
        "def create_sequences(data, sequence_length):\n",
        "    sequences = []\n",
        "    for i in range(len(data) - sequence_length):\n",
        "        seq = data[i:i+sequence_length]\n",
        "        sequences.append(seq)\n",
        "    return np.array(sequences)"
      ]
    },
    {
      "cell_type": "code",
      "execution_count": 11,
      "metadata": {
        "id": "_sQxkfEABW_3"
      },
      "outputs": [],
      "source": [
        "sequence_length = 10\n",
        "X_seq = create_sequences(X_scaled, sequence_length)\n",
        "y_seq = create_sequences(y_scaled, sequence_length)[:, -1]"
      ]
    },
    {
      "cell_type": "code",
      "execution_count": 12,
      "metadata": {
        "id": "ssUlqlRtBab0"
      },
      "outputs": [],
      "source": [
        "X_train, X_test, y_train, y_test = train_test_split(X_seq, y_seq, test_size=0.2, random_state=42)"
      ]
    },
    {
      "cell_type": "code",
      "execution_count": 13,
      "metadata": {
        "id": "cdTgfrucBcgF"
      },
      "outputs": [],
      "source": [
        "model = Sequential()\n",
        "model.add(LSTM(units=50, activation='relu', input_shape=(X_train.shape[1], X_train.shape[2])))\n",
        "model.add(Dense(units=1, activation='linear'))\n",
        "model.compile(optimizer='adam', loss='mean_squared_error')"
      ]
    },
    {
      "cell_type": "code",
      "execution_count": 14,
      "metadata": {
        "colab": {
          "base_uri": "https://localhost:8080/"
        },
        "id": "b73uQ4goBgj7",
        "outputId": "99cdd355-3a44-4de9-b7da-1a9b06685d20"
      },
      "outputs": [
        {
          "output_type": "stream",
          "name": "stdout",
          "text": [
            "Epoch 1/20\n",
            "25/25 [==============================] - 3s 10ms/step - loss: 0.1329\n",
            "Epoch 2/20\n",
            "25/25 [==============================] - 0s 9ms/step - loss: 0.0334\n",
            "Epoch 3/20\n",
            "25/25 [==============================] - 0s 9ms/step - loss: 0.0219\n",
            "Epoch 4/20\n",
            "25/25 [==============================] - 0s 13ms/step - loss: 0.0187\n",
            "Epoch 5/20\n",
            "25/25 [==============================] - 0s 10ms/step - loss: 0.0168\n",
            "Epoch 6/20\n",
            "25/25 [==============================] - 0s 10ms/step - loss: 0.0155\n",
            "Epoch 7/20\n",
            "25/25 [==============================] - 0s 11ms/step - loss: 0.0140\n",
            "Epoch 8/20\n",
            "25/25 [==============================] - 0s 12ms/step - loss: 0.0128\n",
            "Epoch 9/20\n",
            "25/25 [==============================] - 0s 10ms/step - loss: 0.0110\n",
            "Epoch 10/20\n",
            "25/25 [==============================] - 0s 10ms/step - loss: 0.0093\n",
            "Epoch 11/20\n",
            "25/25 [==============================] - 0s 10ms/step - loss: 0.0052\n",
            "Epoch 12/20\n",
            "25/25 [==============================] - 0s 8ms/step - loss: 0.0023\n",
            "Epoch 13/20\n",
            "25/25 [==============================] - 0s 7ms/step - loss: 9.7190e-04\n",
            "Epoch 14/20\n",
            "25/25 [==============================] - 0s 7ms/step - loss: 5.7152e-04\n",
            "Epoch 15/20\n",
            "25/25 [==============================] - 0s 6ms/step - loss: 3.1420e-04\n",
            "Epoch 16/20\n",
            "25/25 [==============================] - 0s 7ms/step - loss: 2.6589e-04\n",
            "Epoch 17/20\n",
            "25/25 [==============================] - 0s 7ms/step - loss: 2.8958e-04\n",
            "Epoch 18/20\n",
            "25/25 [==============================] - 0s 7ms/step - loss: 3.2039e-04\n",
            "Epoch 19/20\n",
            "25/25 [==============================] - 0s 7ms/step - loss: 2.0338e-04\n",
            "Epoch 20/20\n",
            "25/25 [==============================] - 0s 6ms/step - loss: 1.9297e-04\n"
          ]
        },
        {
          "output_type": "execute_result",
          "data": {
            "text/plain": [
              "<keras.src.callbacks.History at 0x7e8fdc8b0280>"
            ]
          },
          "metadata": {},
          "execution_count": 14
        }
      ],
      "source": [
        "model.fit(X_train, y_train, epochs=20, batch_size=32, verbose=1)"
      ]
    },
    {
      "cell_type": "code",
      "execution_count": 15,
      "metadata": {
        "colab": {
          "base_uri": "https://localhost:8080/"
        },
        "id": "2p2KoSBbBi4G",
        "outputId": "b28b187a-6c1f-4839-d415-fc20abdca1c5"
      },
      "outputs": [
        {
          "output_type": "stream",
          "name": "stdout",
          "text": [
            "7/7 [==============================] - 0s 3ms/step\n"
          ]
        }
      ],
      "source": [
        "y_pred_scaled = model.predict(X_test)"
      ]
    },
    {
      "cell_type": "code",
      "execution_count": 16,
      "metadata": {
        "id": "q1_Srua4BnoW"
      },
      "outputs": [],
      "source": [
        "y_pred = scaler_y.inverse_transform(y_pred_scaled)\n",
        "y_actual = scaler_y.inverse_transform(y_test.reshape(-1, 1))"
      ]
    },
    {
      "cell_type": "code",
      "source": [
        "mae = mean_absolute_error(y_actual, y_pred)\n",
        "print(\"Mean Absolute Error (MAE):\", mae)"
      ],
      "metadata": {
        "colab": {
          "base_uri": "https://localhost:8080/"
        },
        "id": "n9ssBzaD-OTA",
        "outputId": "42757922-d447-4d34-ac7d-d279bfb45c6b"
      },
      "execution_count": 17,
      "outputs": [
        {
          "output_type": "stream",
          "name": "stdout",
          "text": [
            "Mean Absolute Error (MAE): 12.586407439877288\n"
          ]
        }
      ]
    },
    {
      "cell_type": "code",
      "execution_count": 18,
      "metadata": {
        "colab": {
          "base_uri": "https://localhost:8080/"
        },
        "id": "m63Dx1CnBrcB",
        "outputId": "8a480e49-04bd-415e-a633-de881808a72a"
      },
      "outputs": [
        {
          "output_type": "stream",
          "name": "stdout",
          "text": [
            "Mean Squared Error: 304.6733499903581\n"
          ]
        }
      ],
      "source": [
        "mse = mean_squared_error(y_actual, y_pred)\n",
        "print(f'Mean Squared Error: {mse}')"
      ]
    },
    {
      "cell_type": "code",
      "source": [
        "r2 = r2_score(y_actual, y_pred)\n",
        "print(f'R2 score: {r2}')"
      ],
      "metadata": {
        "colab": {
          "base_uri": "https://localhost:8080/"
        },
        "id": "JpskWU29aVwj",
        "outputId": "3bb5dfed-152a-4674-d469-4dc487b6b1bf"
      },
      "execution_count": 19,
      "outputs": [
        {
          "output_type": "stream",
          "name": "stdout",
          "text": [
            "R2 score: 0.9960896617876771\n"
          ]
        }
      ]
    },
    {
      "cell_type": "code",
      "source": [],
      "metadata": {
        "id": "Rp9RX_EwaeSY"
      },
      "execution_count": null,
      "outputs": []
    }
  ],
  "metadata": {
    "colab": {
      "provenance": []
    },
    "kernelspec": {
      "display_name": "Python 3",
      "name": "python3"
    },
    "language_info": {
      "name": "python"
    }
  },
  "nbformat": 4,
  "nbformat_minor": 0
}